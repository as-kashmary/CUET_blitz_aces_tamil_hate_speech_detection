{
  "cells": [
    {
      "cell_type": "code",
      "execution_count": null,
      "metadata": {
        "id": "xnUJmR6vV2dc"
      },
      "outputs": [],
      "source": [
        "import pandas as pd\n",
        "from sklearn.feature_extraction.text import TfidfVectorizer\n",
        "from sklearn.metrics import precision_score, recall_score, f1_score\n",
        "from sklearn.linear_model import LogisticRegression, SGDClassifier\n",
        "from sklearn.svm import SVC\n",
        "from sklearn.neighbors import KNeighborsClassifier\n",
        "from sklearn.ensemble import RandomForestClassifier\n",
        "from sklearn.tree import DecisionTreeClassifier\n",
        "from sklearn.naive_bayes import GaussianNB  # Changed to GaussianNB"
      ]
    },
    {
      "cell_type": "code",
      "execution_count": null,
      "metadata": {
        "id": "IGzHr8zMV_J6"
      },
      "outputs": [],
      "source": [
        "# Load datasets\n",
        "train_df = pd.read_csv('tamil_train.csv')\n",
        "dev_df = pd.read_csv('tamil_dev.csv')\n",
        "test_df = pd.read_csv('tamil_test.csv')"
      ]
    },
    {
      "cell_type": "code",
      "execution_count": null,
      "metadata": {
        "id": "vwO8hXyOWHMQ"
      },
      "outputs": [],
      "source": [
        "# Prepare data\n",
        "X_train = train_df['text']\n",
        "y_train = train_df['label']\n",
        "X_dev = dev_df['text']\n",
        "y_dev = dev_df['label']\n",
        "X_test = test_df['text']"
      ]
    },
    {
      "cell_type": "code",
      "execution_count": null,
      "metadata": {
        "id": "mbwP6J0QWcgr"
      },
      "outputs": [],
      "source": [
        "# TF-IDF Vectorization (convert to dense arrays)\n",
        "vectorizer = TfidfVectorizer()\n",
        "X_train_tfidf = vectorizer.fit_transform(X_train).toarray()  # Convert to dense\n",
        "X_dev_tfidf = vectorizer.transform(X_dev).toarray()\n",
        "X_test_tfidf = vectorizer.transform(X_test).toarray()"
      ]
    },
    {
      "cell_type": "code",
      "execution_count": null,
      "metadata": {
        "id": "o9Vbvq2LWgv6"
      },
      "outputs": [],
      "source": [
        "# Initialize models with GaussianNB\n",
        "models = {\n",
        "    \"Logistic Regression\": LogisticRegression(),\n",
        "    \"SVM\": SVC(),\n",
        "    \"KNN\": KNeighborsClassifier(),\n",
        "    \"Gaussian Naive Bayes\": GaussianNB(),\n",
        "    \"SGD\": SGDClassifier(),\n",
        "    \"Random Forest\": RandomForestClassifier(),\n",
        "    \"Decision Tree\": DecisionTreeClassifier()\n",
        "}"
      ]
    },
    {
      "cell_type": "code",
      "execution_count": null,
      "metadata": {
        "id": "wk9Y5g32Wnjr"
      },
      "outputs": [],
      "source": [
        "# Train and evaluate models\n",
        "results = []\n",
        "predictions = {}\n",
        "\n",
        "for name, model in models.items():\n",
        "    # Train model\n",
        "    model.fit(X_train_tfidf, y_train)\n",
        "\n",
        "    # Predict on dev set\n",
        "    dev_preds = model.predict(X_dev_tfidf)\n",
        "\n",
        "    # Calculate metrics\n",
        "    precision = precision_score(y_dev, dev_preds, average='macro')\n",
        "    recall = recall_score(y_dev, dev_preds, average='macro')\n",
        "    f1 = f1_score(y_dev, dev_preds, average='macro')\n",
        "\n",
        "    results.append({\n",
        "        'Model': name,\n",
        "        'Precision': precision,\n",
        "        'Recall': recall,\n",
        "        'F1-score': f1\n",
        "    })\n",
        "\n",
        "    # Store test predictions\n",
        "    predictions[name] = model.predict(X_test_tfidf)"
      ]
    },
    {
      "cell_type": "code",
      "execution_count": null,
      "metadata": {
        "colab": {
          "base_uri": "https://localhost:8080/"
        },
        "id": "BMLpEoXfWuqd",
        "outputId": "125861c2-cd20-411b-f484-99f4352f9661"
      },
      "outputs": [
        {
          "name": "stdout",
          "output_type": "stream",
          "text": [
            "\n",
            "Validation Results:\n",
            "               Model  Precision   Recall  F1-score\n",
            " Logistic Regression   0.725598 0.641070  0.639221\n",
            "                 SVM   0.810495 0.738721  0.751081\n",
            "                 KNN   0.653742 0.533580  0.467296\n",
            "Gaussian Naive Bayes   0.639669 0.638588  0.602264\n",
            "                 SGD   0.713173 0.699420  0.703877\n",
            "       Random Forest   0.824672 0.774957  0.787484\n",
            "       Decision Tree   0.770400 0.775609  0.772602\n",
            "\n",
            "Test predictions saved to test_predictions.csv\n"
          ]
        }
      ],
      "source": [
        "\n",
        "# Print validation results\n",
        "print(\"\\nValidation Results:\")\n",
        "results_df = pd.DataFrame(results)\n",
        "print(results_df.to_string(index=False))\n",
        "\n",
        "# Create prediction dataframe and save to CSV\n",
        "prediction_df = pd.DataFrame(predictions)\n",
        "prediction_df.to_csv('test_predictions.csv', index=False)\n",
        "print(\"\\nTest predictions saved to test_predictions.csv\")"
      ]
    }
  ],
  "metadata": {
    "colab": {
      "provenance": []
    },
    "kernelspec": {
      "display_name": "Python 3",
      "name": "python3"
    },
    "language_info": {
      "name": "python"
    }
  },
  "nbformat": 4,
  "nbformat_minor": 0
}
